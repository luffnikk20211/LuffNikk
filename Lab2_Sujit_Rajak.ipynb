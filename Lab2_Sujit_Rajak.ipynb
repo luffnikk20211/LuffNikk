{
 "cells": [
  {
   "cell_type": "markdown",
   "id": "cfd93da6-d58b-4a2e-896d-cc0ad5f6d3fe",
   "metadata": {},
   "source": [
    "## LAB 2\n",
    "\n",
    "## SUJIT RAJAK\n",
    "\n",
    "## Operations Research (CPSMA-3933-01)\n",
    "\n",
    "## PROF. JACOB\n"
   ]
  },
  {
   "cell_type": "markdown",
   "id": "d8ca685d-235d-4450-8a91-f78147141d60",
   "metadata": {},
   "source": [
    "# Q1: How many zeros does 1000! end with?\n"
   ]
  },
  {
   "cell_type": "code",
   "execution_count": 1,
   "id": "528c260d-bc8b-447e-8ea5-23e085666b4c",
   "metadata": {},
   "outputs": [
    {
     "name": "stdout",
     "output_type": "stream",
     "text": [
      "Zeros at the end of 1000! = 249\n"
     ]
    }
   ],
   "source": [
    "import math  # we need this library for the factorial function\n",
    "\n",
    "# Step 1: Compute the factorial of 1000\n",
    "num = math.factorial(1000)   # math.factorial(n) returns n! as a big integer\n",
    "\n",
    "# Step 2: Convert the big number to a string so we can look at the digits\n",
    "num_str = str(num)           # str() turns the integer into text\n",
    "\n",
    "# Step 3: Count trailing zeros by looking at the string from the end\n",
    "count = 0\n",
    "for digit in reversed(num_str):   # reversed() lets us loop over the string backwards\n",
    "    if digit == \"0\":              # if the digit is a zero\n",
    "        count += 1                # add one to the zero counter\n",
    "    else:\n",
    "        break                     # stop when we find a non-zero digit\n",
    "\n",
    "print(\"Zeros at the end of 1000! =\", count)"
   ]
  },
  {
   "cell_type": "markdown",
   "id": "ebd83731-c71a-4047-a3f7-c2702d488f14",
   "metadata": {},
   "source": [
    "# Q2 (Big Numbers extended):\n",
    "# Find the sum of the digits of 100^13 - 26\n"
   ]
  },
  {
   "cell_type": "code",
   "execution_count": 2,
   "id": "3781d2a2-48f5-4bfa-aa17-dfddc7692661",
   "metadata": {},
   "outputs": [
    {
     "name": "stdout",
     "output_type": "stream",
     "text": [
      "The number is: 99999999999999999999999974\n",
      "The digits are: [9, 9, 9, 9, 9, 9, 9, 9, 9, 9, 9, 9, 9, 9, 9, 9, 9, 9, 9, 9, 9, 9, 9, 9, 7, 4]\n",
      "The sum of the digits is: 227\n"
     ]
    }
   ],
   "source": [
    "\n",
    "# Step 1: Compute the number\n",
    "num = (100 ** 13) - 26   # ** means \"to the power of\" in Python\n",
    "\n",
    "# Step 2: Convert the number into a string so we can process digits\n",
    "num_str = str(num)\n",
    "\n",
    "# Step 3: Turn each character into an integer digit using a list\n",
    "list_of_digits = [int(digit) for digit in num_str]\n",
    "\n",
    "# Step 4: Add up all the digits\n",
    "digit_sum = sum(list_of_digits)\n",
    "\n",
    "# Step 5: Print the results\n",
    "print(\"The number is:\", num)\n",
    "print(\"The digits are:\", list_of_digits)\n",
    "print(\"The sum of the digits is:\", digit_sum)\n"
   ]
  },
  {
   "cell_type": "markdown",
   "id": "3d01a199-63bc-4204-ad62-7f2cb82b0021",
   "metadata": {},
   "source": [
    "\n",
    "# 3. HANDSHAKES – Soccer teams"
   ]
  },
  {
   "cell_type": "code",
   "execution_count": 3,
   "id": "ee0e09aa-49f0-4e8f-a9d3-2b051134eb88",
   "metadata": {},
   "outputs": [
    {
     "name": "stdout",
     "output_type": "stream",
     "text": [
      "3. Soccer game handshakes = 176\n"
     ]
    }
   ],
   "source": [
    "\n",
    "# Formula: Handshakes between n people = n * (n-1) / 2\n",
    "# Two teams: 11 on each side. Everyone shakes hands with opposite team (11*11).\n",
    "# Winning team also shakes with each other (11*10/2).\n",
    "\n",
    "def soccer_handshakes():\n",
    "    team1 = 11\n",
    "    team2 = 11\n",
    "    between_teams = team1 * team2   # every player from team1 shakes with all from team2\n",
    "    within_winning_team = (team1 * (team1 - 1)) // 2\n",
    "    return between_teams + within_winning_team\n",
    "\n",
    "print(\"3. Soccer game handshakes =\", soccer_handshakes())\n"
   ]
  },
  {
   "cell_type": "markdown",
   "id": "4aa83f1a-3040-4a15-9804-59640f28b0a9",
   "metadata": {},
   "source": [
    "\n",
    "# 4. HARDER HANDSHAKES \n",
    "\n"
   ]
  },
  {
   "cell_type": "code",
   "execution_count": 4,
   "id": "80c1e6e2-465a-4579-bb73-470a50e4cabc",
   "metadata": {},
   "outputs": [
    {
     "name": "stdout",
     "output_type": "stream",
     "text": [
      "4. Mr. Smith shook hands = 4\n"
     ]
    }
   ],
   "source": [
    "\n",
    "# Classic logic puzzle:\n",
    "# 5 couples (10 people). Each person can shake hands with at most 8 others (excluding themselves + spouse).\n",
    "# Mr. Smith gets different answers from each person: 0,1,2,3,4,5,6,7,8,9 is impossible (only up to 8).\n",
    "# Actually possible answers: 0 through 8 (9 people asked, 9 different answers).\n",
    "# Mr. Smith didn't answer himself but asked others.\n",
    "# By symmetry, he must have shaken 4 hands (8 individual hand, 4 pair of hands ).\n",
    "\n",
    "print(\"4. Mr. Smith shook hands =\", 4)"
   ]
  },
  {
   "cell_type": "code",
   "execution_count": null,
   "id": "2b1fb979-695a-4f33-b54c-8d02d62c7254",
   "metadata": {},
   "outputs": [],
   "source": []
  }
 ],
 "metadata": {
  "kernelspec": {
   "display_name": "anaconda-2024.02-py310",
   "language": "python",
   "name": "conda-env-anaconda-2024.02-py310-py"
  },
  "language_info": {
   "codemirror_mode": {
    "name": "ipython",
    "version": 3
   },
   "file_extension": ".py",
   "mimetype": "text/x-python",
   "name": "python",
   "nbconvert_exporter": "python",
   "pygments_lexer": "ipython3",
   "version": "3.10.14"
  }
 },
 "nbformat": 4,
 "nbformat_minor": 5
}
